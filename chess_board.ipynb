{
 "cells": [
  {
   "cell_type": "code",
   "execution_count": 49,
   "metadata": {},
   "outputs": [
    {
     "name": "stdout",
     "output_type": "stream",
     "text": [
      "True\n"
     ]
    },
    {
     "data": {
      "image/png": "[encoded data removed]",
      "text/plain": [
       "<Figure size 432x288 with 1 Axes>"
      ]
     },
     "metadata": {
      "needs_background": "light"
     },
     "output_type": "display_data"
    }
   ],
   "source": [
    "import numpy as np\n",
    "\n",
    "import matplotlib.pyplot as plt\n",
    "\n",
    "class ChessBoard():\n",
    "\n",
    "    def __init__(self):\n",
    "\n",
    "        self.grid = np.zeros((8,8,3), np.float64)\n",
    "\n",
    "        div = 1\n",
    "\n",
    "        for i in range(8):\n",
    "\n",
    "            for j in range(8):\n",
    "\n",
    "                div = 0 if div else 1\n",
    "\n",
    "                if i % 2 == div and j % 2 == div:\n",
    "\n",
    "                    self.grid[i][j] = np.array((1,1,1))\n",
    "\n",
    "    def add_red(self, x, y):\n",
    "\n",
    "        self.red_row = x\n",
    "\n",
    "        self.red_column = y\n",
    "\n",
    "        self.grid[x][y] = (1,0,0)\n",
    "\n",
    "        self.render()\n",
    "\n",
    "    def add_blue(self, x, y):\n",
    "\n",
    "        self.blue_row = x\n",
    "\n",
    "        self.blue_column = y\n",
    "\n",
    "        self.grid[x][y] = (0,0,1)\n",
    "\n",
    "        self.render()\n",
    "\n",
    "    def render(self):\n",
    "\n",
    "        plt.imshow(self.grid)\n",
    "\n",
    "    def is_under_attack(self):\n",
    "\n",
    "        if self.red_row == self.blue_row or self.red_column == self.blue_column:\n",
    "\n",
    "            return True\n",
    "\n",
    "        elif abs(self.blue_row - self.red_row) == abs(self.blue_column - self.red_column):\n",
    "\n",
    "            return True\n",
    "\n",
    "        else:\n",
    "\n",
    "            return False\n",
    "            \n",
    "def check():\n",
    "\n",
    "    chess_board = ChessBoard()\n",
    "\n",
    "    chess_board.add_red(0,1)\n",
    "\n",
    "    chess_board.add_blue(0,6)\n",
    "\n",
    "    expected = True\n",
    "\n",
    "    actual = chess_board.is_under_attack()\n",
    "\n",
    "    assert actual == expected\n",
    "\n",
    "    print(actual)\n",
    "\n",
    "check()\n"
   ]
  },
  {
   "cell_type": "code",
   "execution_count": 44,
   "metadata": {},
   "outputs": [
    {
     "name": "stdout",
     "output_type": "stream",
     "text": [
      "True\n"
     ]
    },
    {
     "data": {
      "image/png": "[encoded data removed]",
      "text/plain": [
       "<Figure size 432x288 with 1 Axes>"
      ]
     },
     "metadata": {
      "needs_background": "light"
     },
     "output_type": "display_data"
    }
   ],
   "source": [
    "            \n",
    "def check1():\n",
    "\n",
    "    chess_board = ChessBoard()\n",
    "\n",
    "    chess_board.add_red(1,1)\n",
    "\n",
    "    chess_board.add_blue(5,1)\n",
    "\n",
    "    expected = True\n",
    "\n",
    "    actual = chess_board.is_under_attack()\n",
    "\n",
    "    assert actual == expected\n",
    "    \n",
    "    print(actual)\n",
    "\n",
    "check1()"
   ]
  },
  {
   "cell_type": "code",
   "execution_count": 45,
   "metadata": {},
   "outputs": [
    {
     "name": "stdout",
     "output_type": "stream",
     "text": [
      "True\n"
     ]
    },
    {
     "data": {
      "image/png": "[encoded data removed]",
      "text/plain": [
       "<Figure size 432x288 with 1 Axes>"
      ]
     },
     "metadata": {
      "needs_background": "light"
     },
     "output_type": "display_data"
    }
   ],
   "source": [
    "            \n",
    "def check2():\n",
    "\n",
    "    chess_board = ChessBoard()\n",
    "\n",
    "    chess_board.add_red(1,1)\n",
    "\n",
    "    chess_board.add_blue(4,4)\n",
    "\n",
    "    expected = True\n",
    "\n",
    "    actual = chess_board.is_under_attack()\n",
    "\n",
    "    assert actual == expected\n",
    "    \n",
    "    print(actual)\n",
    "\n",
    "check2()"
   ]
  },
  {
   "cell_type": "code",
   "execution_count": 48,
   "metadata": {},
   "outputs": [
    {
     "name": "stdout",
     "output_type": "stream",
     "text": [
      "True\n"
     ]
    },
    {
     "data": {
      "image/png": "[encoded data removed]",
      "text/plain": [
       "<Figure size 432x288 with 1 Axes>"
      ]
     },
     "metadata": {
      "needs_background": "light"
     },
     "output_type": "display_data"
    }
   ],
   "source": [
    "            \n",
    "def check3():\n",
    "\n",
    "    chess_board = ChessBoard()\n",
    "\n",
    "    chess_board.add_red(4,1)\n",
    "\n",
    "    chess_board.add_blue(0,5)\n",
    "\n",
    "    expected = True\n",
    "\n",
    "    actual = chess_board.is_under_attack()\n",
    "\n",
    "    assert actual == expected\n",
    "    \n",
    "    print(actual)\n",
    "\n",
    "check3()"
   ]
  }
 ],
 "metadata": {
  "interpreter": {
   "hash": "19155293efbb56ea60d98faa130ce53ceadc10d0185f5b8d0a0aa8c5a9e7c1fc"
  },
  "kernelspec": {
   "display_name": "Python 3.9.5 64-bit ('.venv': poetry)",
   "name": "python3"
  },
  "language_info": {
   "codemirror_mode": {
    "name": "ipython",
    "version": 3
   },
   "file_extension": ".py",
   "mimetype": "text/x-python",
   "name": "python",
   "nbconvert_exporter": "python",
   "pygments_lexer": "ipython3",
   "version": "3.9.5"
  },
  "orig_nbformat": 4
 },
 "nbformat": 4,
 "nbformat_minor": 2
}
